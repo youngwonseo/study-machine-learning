{
 "cells": [
  {
   "cell_type": "markdown",
   "metadata": {},
   "source": [
    "## Chapter5. 오차역전파법\n",
    "* 가중치의 매개변수 기울기를 구하기위해 수치미분을 이용하였다.\n",
    "* 하지만 계산 시간이 오래걸리는 단점이 있다.\n",
    "* 여기서는 기울기를 효율적으로 구하는 오차역전파법에 대해 알아보자"
   ]
  },
  {
   "cell_type": "markdown",
   "metadata": {},
   "source": [
    "### 5.1 계산 그래프(computational graph)\n",
    "* 계산과정을 수식보다 그래프로 나타낸 것을 계산 그래프라고 한다.\n",
    "* 시각적으로 접근하는 방법이라 직관적이다.\n",
    "* 설명을 위해 colah의 포스트를 활용하였다. (http://colah.github.io/posts/2015-08-Backprop/) \n",
    "#### 5.1.1 계산그래프 예제\n",
    "* 다음과 같은 수식이 있다.\n",
    "![](https://latex.codecogs.com/gif.latex?c%3Da&plus;b%5C%5C%20d%3Db&plus;1%5C%5C%20e%3Dc%u2217d)\n",
    "* 위 수식을 그래프로 표현하면 아래와 같다.\n",
    "![](http://colah.github.io/posts/2015-08-Backprop/img/tree-def.png)\n",
    "* a와 b가 c,d를 계산하는데 사용되고 c,d가 e를 계산하는데 사용되었다. 그림(계산그래프)으로 보니 직관적이다.\n",
    "* 즉 계산을 위한 연산자는 노드, 실계 값은 에지에 가중치로 적용된다.\n"
   ]
  },
  {
   "cell_type": "markdown",
   "metadata": {},
   "source": [
    "### 5.2 연쇄법칙\n",
    "#### 5.2.1 계산 그래프의 역전파\n",
    "\n",
    "* 예로들면 ![]의 역전파는 ![]이다\n",
    "\n",
    "#### 5.2.2 연쇄법칙이란?\n",
    "* 연쇄법칙은 합성함수의 미분에 대한 성질을 나타낸다.\n",
    "* 아래와 같은 식은 두 개의 식으로 나타낼수 있다.\n",
    "![](https://latex.codecogs.com/gif.latex?z%3D%7B%20%28x&plus;y%20%7D%29%5E%7B%202%20%7D)\n",
    "![](https://latex.codecogs.com/gif.latex?z%3Dt%5E%7B%202%20%7D%5C%5C%20t%3Dx&plus;y)\n",
    "\n",
    "* 이때 ![]의 미분은 위에서 나열한 두 개의 수식의 미분의 곱으로 나타낼 수 있다. 이것이 연쇄법칙의 원리이다.\n",
    "* 즉,\n",
    "![](https://latex.codecogs.com/gif.latex?%5Cfrac%20%7B%20%5Cpartial%20z%20%7D%7B%20%5Cpartial%20t%20%7D%20%3D2t%5C%5C%20%5Cfrac%20%7B%20%5Cpartial%20t%20%7D%7B%20%5Cpartial%20x%20%7D%20%3D1%5C%5C%20%5Cfrac%20%7B%20%5Cpartial%20z%20%7D%7B%20%5Cpartial%20x%20%7D%20%3D%5Cfrac%20%7B%20%5Cpartial%20z%20%7D%7B%20%5Cpartial%20t%20%7D%20%5Cfrac%20%7B%20%5Cpartial%20t%20%7D%7B%20%5Cpartial%20x%20%7D%20%3D2t%5Ccdot%201%3D2%28x&plus;y%29)\n",
    "\n"
   ]
  },
  {
   "cell_type": "markdown",
   "metadata": {},
   "source": [
    "### 5.3 역전파\n",
    "* +와 x에 연산을 예로 역전파를 알아보자.\n",
    "\n",
    "#### 5.3.1덧셈\n",
    "* z = x+y 라는 식에 대한 역전파를 살펴보면 다음과 같다.\n",
    "* 일단 각 x,y의 z에대한 편미분을 계산하면 모두 상수1이다.\n",
    "![](https://latex.codecogs.com/gif.latex?%5Cfrac%20%7B%20%5Cpartial%20x%20%7D%7B%20%5Cpartial%20z%20%7D%20%3D1%5C%5C%20%5Cfrac%20%7B%20%5Cpartial%20y%20%7D%7B%20%5Cpartial%20z%20%7D%20%3D1%5C%5C)\n",
    "*\n",
    "\n",
    "\n",
    "#### 5.3.2 곱셈"
   ]
  },
  {
   "cell_type": "code",
   "execution_count": null,
   "metadata": {
    "collapsed": true
   },
   "outputs": [],
   "source": []
  },
  {
   "cell_type": "markdown",
   "metadata": {},
   "source": [
    "### 5.4 단순계층 구현"
   ]
  },
  {
   "cell_type": "markdown",
   "metadata": {},
   "source": [
    "### 5.5 활성화 함수 구현"
   ]
  },
  {
   "cell_type": "markdown",
   "metadata": {},
   "source": [
    "### 5.6 Affine/Softmax 구현"
   ]
  },
  {
   "cell_type": "markdown",
   "metadata": {},
   "source": [
    "### 5.7 오차역전파 구현"
   ]
  }
 ],
 "metadata": {
  "kernelspec": {
   "display_name": "Python 3",
   "language": "python",
   "name": "python3"
  },
  "language_info": {
   "codemirror_mode": {
    "name": "ipython",
    "version": 3
   },
   "file_extension": ".py",
   "mimetype": "text/x-python",
   "name": "python",
   "nbconvert_exporter": "python",
   "pygments_lexer": "ipython3",
   "version": "3.6.2"
  }
 },
 "nbformat": 4,
 "nbformat_minor": 2
}
