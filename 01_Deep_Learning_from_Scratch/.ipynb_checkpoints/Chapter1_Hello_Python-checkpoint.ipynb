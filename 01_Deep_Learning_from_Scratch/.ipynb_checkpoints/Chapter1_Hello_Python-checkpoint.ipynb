{
 "cells": [
  {
   "cell_type": "markdown",
   "metadata": {},
   "source": [
    "## Chapter1. 헬로 파이썬\n",
    "파이썬의 기본 문법을 설명합니다. 파이썬에 대해 자세한 내용은 파이썬 관련 문서를 확인해주세요\n",
    "\n",
    "참조 사이트\n",
    "* https://wikidocs.net/book/1\n",
    "* https://docs.python.org/3/tutorial/\n",
    "* http://cs231n.github.io/python-numpy-tutorial/"
   ]
  },
  {
   "cell_type": "markdown",
   "metadata": {},
   "source": [
    "### 산술연산\n",
    "가운데 %는 왼쪽의 문자열에 포함된 출력타입(%d, %f 등)에 오른쪽의 값을 대입(복사)시키는 역활을 합니다."
   ]
  },
  {
   "cell_type": "code",
   "execution_count": 1,
   "metadata": {},
   "outputs": [
    {
     "name": "stdout",
     "output_type": "stream",
     "text": [
      "1 + 4 = 5\n",
      "3 - 2 = 1\n",
      "7 + 9 = 63\n",
      "8 / 3 = 2.666667\n",
      "3 ^ 2 = 9\n"
     ]
    }
   ],
   "source": [
    "print( \"1 + 4 = %d\" % (1 + 4) )\n",
    "print( \"3 - 2 = %d\" % (3 - 2) )\n",
    "print( \"7 + 9 = %d\" % (7 * 9) )\n",
    "print( \"8 / 3 = %f\" % (8 / 3) )\n",
    "print( \"3 ^ 2 = %d\" % (3 ** 2) )"
   ]
  },
  {
   "cell_type": "markdown",
   "metadata": {},
   "source": [
    "### 자료형"
   ]
  },
  {
   "cell_type": "code",
   "execution_count": 2,
   "metadata": {},
   "outputs": [
    {
     "name": "stdout",
     "output_type": "stream",
     "text": [
      "type(10) : <class 'int'>\n",
      "type(2.718) : <class 'float'>\n",
      "type(\"hello\") : <class 'str'>\n"
     ]
    }
   ],
   "source": [
    "print( \"type(10) : %s\" % type(10) )\n",
    "print( \"type(2.718) : %s\" % type(2.718) )\n",
    "print( \"type(\\\"hello\\\") : %s\" % type(\"hello\") )"
   ]
  },
  {
   "cell_type": "markdown",
   "metadata": {},
   "source": [
    "### 변수\n",
    "파이썬은 동적언어로써 변수에 대입되는 데이터의 자료형에 따라 변수의 자료형이 결정됩니다."
   ]
  },
  {
   "cell_type": "code",
   "execution_count": 12,
   "metadata": {},
   "outputs": [
    {
     "name": "stdout",
     "output_type": "stream",
     "text": [
      "10\n",
      "100\n",
      "315.0\n",
      "<class 'float'>\n"
     ]
    }
   ],
   "source": [
    "x = 10\n",
    "print(x)\n",
    "x = 100\n",
    "print(x)\n",
    "y = 3.15\n",
    "print( x * y )\n",
    "print( type(x * y) )"
   ]
  },
  {
   "cell_type": "markdown",
   "metadata": {},
   "source": [
    "### 리스트\n",
    "파이썬에서는 기본 컨테이너로 4가지의 타입이 있습니다.\n",
    "* 리스트\n",
    "* 딕셔너리\n",
    "* 셋\n",
    "* 튜플\n",
    "\n",
    "리스트는 순서있는 데이터 리스트입니다."
   ]
  },
  {
   "cell_type": "code",
   "execution_count": 13,
   "metadata": {},
   "outputs": [
    {
     "name": "stdout",
     "output_type": "stream",
     "text": [
      "[1, 2, 3, 4, 5]\n",
      "[1, 2, 3, 4, 5]\n",
      "[1, 2, 3, 4, 5]\n",
      "2\n",
      "5\n",
      "[4, 5]\n",
      "[3, 4, 5]\n"
     ]
    }
   ],
   "source": [
    "a = [1,2,3,4,5]\n",
    "print(a)\n",
    "b = [x for x in range(1,6)]\n",
    "print(b)\n",
    "\n",
    "# 슬라이싱\n",
    "print(a[:])  #전체\n",
    "print(a[1]) # 두 번째 요소\n",
    "print(a[-1]) # 맨 마지막에서 첫 번째 요소\n",
    "print(a[3:]) # 네 번째에서 마지막까지\n",
    "print(a[2:5]) # 세 번째에서 네 번째까지"
   ]
  },
  {
   "cell_type": "markdown",
   "metadata": {},
   "source": [
    "### 딕셔너리\n",
    "키 벨류 쌍의 컨테이너입니다."
   ]
  },
  {
   "cell_type": "code",
   "execution_count": 17,
   "metadata": {},
   "outputs": [
    {
     "name": "stdout",
     "output_type": "stream",
     "text": [
      "180\n",
      "70\n",
      "{'weight': 70, 'height': 180}\n"
     ]
    }
   ],
   "source": [
    "me = {'height' : 180}\n",
    "print(me['height'])\n",
    "\n",
    "me['weight'] = 70\n",
    "print(me['weight'])\n",
    "print(me)"
   ]
  },
  {
   "cell_type": "markdown",
   "metadata": {},
   "source": [
    "### bool\n",
    "bool은 참(true)과 거짓(false)을 나타내는 자료형입니다. and, or, not 연산자와 함께 논리연산을 표현합니다."
   ]
  },
  {
   "cell_type": "code",
   "execution_count": 18,
   "metadata": {},
   "outputs": [
    {
     "name": "stdout",
     "output_type": "stream",
     "text": [
      "<class 'bool'>\n",
      "False\n",
      "True\n"
     ]
    }
   ],
   "source": [
    "a = True\n",
    "b = False\n",
    "print(type(a))\n",
    "print(a and b)\n",
    "print(a or b)"
   ]
  },
  {
   "cell_type": "markdown",
   "metadata": {},
   "source": [
    "### if문\n",
    "조건문을 나타내는 if문입니다. 파이썬에서는 콜론(:)과 들여쓰기(스페이스, 탭) 이용하여 if, else의 실행구문을 판단합니다. 이는 반복문, 함수, 클래스 등에서도 동일하게 사용됩니다.\n",
    "\n",
    "파이썬에서는 일반적으로 탭보다 공백4칸을 권장합니다."
   ]
  },
  {
   "cell_type": "code",
   "execution_count": 19,
   "metadata": {},
   "outputs": [
    {
     "name": "stdout",
     "output_type": "stream",
     "text": [
      "I'm hungry\n"
     ]
    }
   ],
   "source": [
    "hungry = True\n",
    "if hungry:\n",
    "    print(\"I'm hungry\")\n",
    "else:\n",
    "    print(\"I'm not hungry\")"
   ]
  },
  {
   "cell_type": "markdown",
   "metadata": {},
   "source": [
    "### for문\n",
    "반복문을 수행하는 for문입니다."
   ]
  },
  {
   "cell_type": "code",
   "execution_count": 20,
   "metadata": {},
   "outputs": [
    {
     "name": "stdout",
     "output_type": "stream",
     "text": [
      "1\n",
      "2\n",
      "3\n"
     ]
    }
   ],
   "source": [
    "for i in [1,2,3]:\n",
    "    print(i)"
   ]
  },
  {
   "cell_type": "markdown",
   "metadata": {},
   "source": [
    "### 함수"
   ]
  },
  {
   "cell_type": "code",
   "execution_count": 22,
   "metadata": {},
   "outputs": [
    {
     "name": "stdout",
     "output_type": "stream",
     "text": [
      "hello world\n",
      "hi, my name is James\n"
     ]
    }
   ],
   "source": [
    "def hello():\n",
    "    print(\"hello world\")\n",
    "    \n",
    "def printMessage(message):\n",
    "    print(message)\n",
    "    \n",
    "hello()\n",
    "printMessage(\"hi, my name is James\")"
   ]
  },
  {
   "cell_type": "markdown",
   "metadata": {},
   "source": [
    "### 클래스\n",
    "클래스는 다음과 같이 정의합니다. 여기서 \\__init__은 생성자이고 클래스에 포함되는 모든함수는 첫번째 인자로 self를 받습니다. self로 자신의 맴버에 접근합니다."
   ]
  },
  {
   "cell_type": "code",
   "execution_count": 25,
   "metadata": {},
   "outputs": [
    {
     "name": "stdout",
     "output_type": "stream",
     "text": [
      "Initialized!\n",
      "Hello David\n",
      "Good-bye David\n"
     ]
    }
   ],
   "source": [
    "class Man:\n",
    "    def __init__(self, name):\n",
    "        self.name = name\n",
    "        print(\"Initialized!\")\n",
    "    \n",
    "    def hello(self):\n",
    "        print(\"Hello \" + self.name)\n",
    "        \n",
    "    def goodbye(self):\n",
    "        print(\"Good-bye \" + self.name)\n",
    "        \n",
    "m = Man(\"David\")\n",
    "m.hello()\n",
    "m.goodbye()"
   ]
  },
  {
   "cell_type": "markdown",
   "metadata": {},
   "source": [
    "### 넘파이\n",
    "넘파이는 파이썬에서 행렬 계산을 지원하는 라이브러리입니다. 데이터 과학, 딥러닝 등 행렬연산을 많이 사용하는 작업에 필수적으로 사용되는 파이썬 라이브러리입니다. 넘파이를 학습할려면 방대한 분량의 설명이 필요합니다. 여기서는 가장 간단한 사용법만 알아보겠습니다. 자세한 내용은 관련문서를 참조해주세요.\n",
    "\n",
    "외부 라이브러리이므로 먼저 임포트를 합니다."
   ]
  },
  {
   "cell_type": "code",
   "execution_count": 26,
   "metadata": {},
   "outputs": [],
   "source": [
    "import numpy as np"
   ]
  },
  {
   "cell_type": "markdown",
   "metadata": {},
   "source": [
    "다음으로 넘파이 배열생성, 산술연산, 행렬연산입니다. \n",
    "\n",
    "여기서 살펴보는 덧셈, 곱셈, 나눗셈은 모두 원소별 연산(element-wise operation)을 수행합니다."
   ]
  },
  {
   "cell_type": "code",
   "execution_count": 39,
   "metadata": {},
   "outputs": [
    {
     "name": "stdout",
     "output_type": "stream",
     "text": [
      "[1. 2. 3.]\n",
      "[3. 6. 9.]\n",
      "[ 2.  8. 18.]\n",
      "[0.5 0.5 0.5]\n"
     ]
    }
   ],
   "source": [
    "x = np.array([1.0, 2.0, 3.0])\n",
    "print(x)\n",
    "type(x)\n",
    "\n",
    "y = np.array([2.0, 4.0, 6.0])\n",
    "print(x + y)\n",
    "print(x * y)\n",
    "print(x / y)"
   ]
  },
  {
   "cell_type": "markdown",
   "metadata": {},
   "source": [
    "이번에는 넘파이의 중요 기능 중 하나인 브로드캐스트(broadcast)입니다. 브로드캐스트란 형상이 다른 행렬의 연산을 지원하는 것입니다.\n",
    "\n",
    "먼저 넘파이배열의 내장함수인 shape와 dtype입니다. shape는 행렬의 형태, (행 x 열)로 출력합니다. dtype은 행렬의 데이터 타입니다. 딥러닝에서는 사이즈가 큰 행렬연산이 주요 수행연산이 됩니다. 그 다음은 넘파이 배열과 하나의 값(scala)에 대한 연산입니다."
   ]
  },
  {
   "cell_type": "code",
   "execution_count": 42,
   "metadata": {},
   "outputs": [
    {
     "name": "stdout",
     "output_type": "stream",
     "text": [
      "(3,)\n",
      "float64\n",
      "[0.5 1.  1.5]\n"
     ]
    }
   ],
   "source": [
    "print(x.shape)\n",
    "print(x.dtype)\n",
    "\n",
    "x = np.array([1.0, 2.0, 3.0])\n",
    "print(x / 2)"
   ]
  },
  {
   "cell_type": "code",
   "execution_count": 47,
   "metadata": {},
   "outputs": [
    {
     "name": "stdout",
     "output_type": "stream",
     "text": [
      "[[10 40]\n",
      " [30 80]]\n",
      "[[0.1 0.1]\n",
      " [0.3 0.2]]\n"
     ]
    }
   ],
   "source": [
    "a = np.array([[1, 2],[3, 4]])\n",
    "b = np.array([10, 20])\n",
    "print(a * b)\n",
    "print(a / b)"
   ]
  },
  {
   "cell_type": "markdown",
   "metadata": {},
   "source": [
    "다음은 넘파이배열의 각 요소에 접근하는 예제입니다."
   ]
  },
  {
   "cell_type": "code",
   "execution_count": 49,
   "metadata": {},
   "outputs": [
    {
     "name": "stdout",
     "output_type": "stream",
     "text": [
      "[[1 2]\n",
      " [3 4]]\n",
      "[1 2]\n",
      "3\n",
      "3\n"
     ]
    }
   ],
   "source": [
    "a = np.array([[1, 2],[3, 4]])\n",
    "\n",
    "print(a)\n",
    "print(a[0])\n",
    "print(a[1, 0])\n",
    "print(a[1][0])"
   ]
  },
  {
   "cell_type": "markdown",
   "metadata": {},
   "source": [
    "### matplotlib\n",
    "matplotlib은 데이터를 그래프등으로 시각화하는 라이브러리입니다. 여기서는 간단한 예제만 살펴보고 자세한 사항은 관련 문서를 참조해주세요."
   ]
  },
  {
   "cell_type": "code",
   "execution_count": 35,
   "metadata": {},
   "outputs": [
    {
     "data": {
      "image/png": "[encoded data removed]",
      "text/plain": [
       "<Figure size 432x288 with 1 Axes>"
      ]
     },
     "metadata": {},
     "output_type": "display_data"
    }
   ],
   "source": [
    "import numpy as np\n",
    "import matplotlib.pyplot as plt\n",
    "\n",
    "x = np.arange(0, 6, 0.1) #0부터 6까지 0.1 간격으로 생성\n",
    "y = np.sin(x)\n",
    "\n",
    "plt.plot(x, y)\n",
    "plt.show()"
   ]
  },
  {
   "cell_type": "markdown",
   "metadata": {},
   "source": [
    "또 다른 예제입니다."
   ]
  },
  {
   "cell_type": "code",
   "execution_count": 37,
   "metadata": {},
   "outputs": [
    {
     "data": {
      "image/png": "[encoded data removed]",
      "text/plain": [
       "<Figure size 432x288 with 1 Axes>"
      ]
     },
     "metadata": {},
     "output_type": "display_data"
    }
   ],
   "source": [
    "x = np.arange(0, 6, 0.1) #0부터 6까지 0.1 간격으로 생성\n",
    "y1 = np.sin(x)\n",
    "y2 = np.cos(x)\n",
    "\n",
    "plt.plot(x, y1, label=\"sin\")\n",
    "plt.plot(x, y2, linestyle=\"--\", label=\"cos\")\n",
    "plt.xlabel(\"x\")\n",
    "plt.xlabel(\"y\")\n",
    "plt.title(\"sin & cos\")\n",
    "plt.legend()\n",
    "plt.show()"
   ]
  },
  {
   "cell_type": "markdown",
   "metadata": {},
   "source": [
    "다음과 같이 이미도 시각화할 수 있습니다."
   ]
  },
  {
   "cell_type": "code",
   "execution_count": 32,
   "metadata": {},
   "outputs": [
    {
     "data": {
      "image/png": "[encoded data removed]",
      "text/plain": [
       "<Figure size 432x288 with 1 Axes>"
      ]
     },
     "metadata": {},
     "output_type": "display_data"
    }
   ],
   "source": [
    "from matplotlib.image import imread\n",
    "\n",
    "img = imread('https://youngwonseo.github.io/assets/youngwon.png')\n",
    "\n",
    "plt.imshow(img)\n",
    "plt.show()"
   ]
  }
 ],
 "metadata": {
  "kernelspec": {
   "display_name": "Python 3",
   "language": "python",
   "name": "python3"
  },
  "language_info": {
   "codemirror_mode": {
    "name": "ipython",
    "version": 3
   },
   "file_extension": ".py",
   "mimetype": "text/x-python",
   "name": "python",
   "nbconvert_exporter": "python",
   "pygments_lexer": "ipython3",
   "version": "3.5.0"
  }
 },
 "nbformat": 4,
 "nbformat_minor": 2
}
